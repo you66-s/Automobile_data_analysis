{
 "cells": [
  {
   "cell_type": "code",
   "id": "initial_id",
   "metadata": {
    "collapsed": true,
    "ExecuteTime": {
     "end_time": "2025-03-22T00:06:44.713523Z",
     "start_time": "2025-03-22T00:06:44.693648Z"
    }
   },
   "source": [
    "from tqdm import tqdm\n",
    "import numpy as np\n",
    "import pandas as pd\n",
    "import matplotlib.pyplot as plt\n",
    "import seaborn as sns\n",
    "from sklearn.model_selection import train_test_split, cross_val_score, GridSearchCV\n",
    "from sklearn.linear_model import LinearRegression, Ridge\n",
    "from sklearn.preprocessing import PolynomialFeatures"
   ],
   "outputs": [],
   "execution_count": 2
  },
  {
   "metadata": {
    "ExecuteTime": {
     "end_time": "2025-03-22T02:16:53.886447Z",
     "start_time": "2025-03-22T02:16:53.752104Z"
    }
   },
   "cell_type": "code",
   "source": [
    "laptop_data = pd.read_csv(\"laptop_pricing_dataset_mod2.csv\")\n",
    "laptop_data = laptop_data.drop(['Unnamed: 0.1', 'Unnamed: 0'], axis=1)\n",
    "laptop_data\n"
   ],
   "id": "99a57f161ba32ab0",
   "outputs": [
    {
     "data": {
      "text/plain": [
       "    Manufacturer  Category  GPU  OS  CPU_core  Screen_Size_inch  \\\n",
       "0           Acer         4    2   1         5              14.0   \n",
       "1           Dell         3    1   1         3              15.6   \n",
       "2           Dell         3    1   1         7              15.6   \n",
       "3           Dell         4    2   1         5              13.3   \n",
       "4             HP         4    2   1         7              15.6   \n",
       "..           ...       ...  ...  ..       ...               ...   \n",
       "233       Lenovo         4    2   1         7              14.0   \n",
       "234      Toshiba         3    2   1         5              13.3   \n",
       "235       Lenovo         4    2   1         5              12.0   \n",
       "236       Lenovo         3    3   1         5              15.6   \n",
       "237      Toshiba         3    2   1         5              14.0   \n",
       "\n",
       "     CPU_frequency  RAM_GB  Storage_GB_SSD  Weight_pounds  Price Price-binned  \\\n",
       "0         0.551724       8             256        3.52800    978          Low   \n",
       "1         0.689655       4             256        4.85100    634          Low   \n",
       "2         0.931034       8             256        4.85100    946          Low   \n",
       "3         0.551724       8             128        2.69010   1244          Low   \n",
       "4         0.620690       8             256        4.21155    837          Low   \n",
       "..             ...     ...             ...            ...    ...          ...   \n",
       "233       0.896552       8             256        3.74850   1891       Medium   \n",
       "234       0.827586       8             256        2.64600   1950       Medium   \n",
       "235       0.896552       8             256        2.99880   2236       Medium   \n",
       "236       0.862069       6             256        5.29200    883          Low   \n",
       "237       0.793103       8             256        4.29975   1499          Low   \n",
       "\n",
       "     Screen-Full_HD  Screen-IPS_panel  \n",
       "0                 0                 1  \n",
       "1                 1                 0  \n",
       "2                 1                 0  \n",
       "3                 0                 1  \n",
       "4                 1                 0  \n",
       "..              ...               ...  \n",
       "233               0                 1  \n",
       "234               1                 0  \n",
       "235               0                 1  \n",
       "236               1                 0  \n",
       "237               1                 0  \n",
       "\n",
       "[238 rows x 14 columns]"
      ],
      "text/html": [
       "<div>\n",
       "<style scoped>\n",
       "    .dataframe tbody tr th:only-of-type {\n",
       "        vertical-align: middle;\n",
       "    }\n",
       "\n",
       "    .dataframe tbody tr th {\n",
       "        vertical-align: top;\n",
       "    }\n",
       "\n",
       "    .dataframe thead th {\n",
       "        text-align: right;\n",
       "    }\n",
       "</style>\n",
       "<table border=\"1\" class=\"dataframe\">\n",
       "  <thead>\n",
       "    <tr style=\"text-align: right;\">\n",
       "      <th></th>\n",
       "      <th>Manufacturer</th>\n",
       "      <th>Category</th>\n",
       "      <th>GPU</th>\n",
       "      <th>OS</th>\n",
       "      <th>CPU_core</th>\n",
       "      <th>Screen_Size_inch</th>\n",
       "      <th>CPU_frequency</th>\n",
       "      <th>RAM_GB</th>\n",
       "      <th>Storage_GB_SSD</th>\n",
       "      <th>Weight_pounds</th>\n",
       "      <th>Price</th>\n",
       "      <th>Price-binned</th>\n",
       "      <th>Screen-Full_HD</th>\n",
       "      <th>Screen-IPS_panel</th>\n",
       "    </tr>\n",
       "  </thead>\n",
       "  <tbody>\n",
       "    <tr>\n",
       "      <th>0</th>\n",
       "      <td>Acer</td>\n",
       "      <td>4</td>\n",
       "      <td>2</td>\n",
       "      <td>1</td>\n",
       "      <td>5</td>\n",
       "      <td>14.0</td>\n",
       "      <td>0.551724</td>\n",
       "      <td>8</td>\n",
       "      <td>256</td>\n",
       "      <td>3.52800</td>\n",
       "      <td>978</td>\n",
       "      <td>Low</td>\n",
       "      <td>0</td>\n",
       "      <td>1</td>\n",
       "    </tr>\n",
       "    <tr>\n",
       "      <th>1</th>\n",
       "      <td>Dell</td>\n",
       "      <td>3</td>\n",
       "      <td>1</td>\n",
       "      <td>1</td>\n",
       "      <td>3</td>\n",
       "      <td>15.6</td>\n",
       "      <td>0.689655</td>\n",
       "      <td>4</td>\n",
       "      <td>256</td>\n",
       "      <td>4.85100</td>\n",
       "      <td>634</td>\n",
       "      <td>Low</td>\n",
       "      <td>1</td>\n",
       "      <td>0</td>\n",
       "    </tr>\n",
       "    <tr>\n",
       "      <th>2</th>\n",
       "      <td>Dell</td>\n",
       "      <td>3</td>\n",
       "      <td>1</td>\n",
       "      <td>1</td>\n",
       "      <td>7</td>\n",
       "      <td>15.6</td>\n",
       "      <td>0.931034</td>\n",
       "      <td>8</td>\n",
       "      <td>256</td>\n",
       "      <td>4.85100</td>\n",
       "      <td>946</td>\n",
       "      <td>Low</td>\n",
       "      <td>1</td>\n",
       "      <td>0</td>\n",
       "    </tr>\n",
       "    <tr>\n",
       "      <th>3</th>\n",
       "      <td>Dell</td>\n",
       "      <td>4</td>\n",
       "      <td>2</td>\n",
       "      <td>1</td>\n",
       "      <td>5</td>\n",
       "      <td>13.3</td>\n",
       "      <td>0.551724</td>\n",
       "      <td>8</td>\n",
       "      <td>128</td>\n",
       "      <td>2.69010</td>\n",
       "      <td>1244</td>\n",
       "      <td>Low</td>\n",
       "      <td>0</td>\n",
       "      <td>1</td>\n",
       "    </tr>\n",
       "    <tr>\n",
       "      <th>4</th>\n",
       "      <td>HP</td>\n",
       "      <td>4</td>\n",
       "      <td>2</td>\n",
       "      <td>1</td>\n",
       "      <td>7</td>\n",
       "      <td>15.6</td>\n",
       "      <td>0.620690</td>\n",
       "      <td>8</td>\n",
       "      <td>256</td>\n",
       "      <td>4.21155</td>\n",
       "      <td>837</td>\n",
       "      <td>Low</td>\n",
       "      <td>1</td>\n",
       "      <td>0</td>\n",
       "    </tr>\n",
       "    <tr>\n",
       "      <th>...</th>\n",
       "      <td>...</td>\n",
       "      <td>...</td>\n",
       "      <td>...</td>\n",
       "      <td>...</td>\n",
       "      <td>...</td>\n",
       "      <td>...</td>\n",
       "      <td>...</td>\n",
       "      <td>...</td>\n",
       "      <td>...</td>\n",
       "      <td>...</td>\n",
       "      <td>...</td>\n",
       "      <td>...</td>\n",
       "      <td>...</td>\n",
       "      <td>...</td>\n",
       "    </tr>\n",
       "    <tr>\n",
       "      <th>233</th>\n",
       "      <td>Lenovo</td>\n",
       "      <td>4</td>\n",
       "      <td>2</td>\n",
       "      <td>1</td>\n",
       "      <td>7</td>\n",
       "      <td>14.0</td>\n",
       "      <td>0.896552</td>\n",
       "      <td>8</td>\n",
       "      <td>256</td>\n",
       "      <td>3.74850</td>\n",
       "      <td>1891</td>\n",
       "      <td>Medium</td>\n",
       "      <td>0</td>\n",
       "      <td>1</td>\n",
       "    </tr>\n",
       "    <tr>\n",
       "      <th>234</th>\n",
       "      <td>Toshiba</td>\n",
       "      <td>3</td>\n",
       "      <td>2</td>\n",
       "      <td>1</td>\n",
       "      <td>5</td>\n",
       "      <td>13.3</td>\n",
       "      <td>0.827586</td>\n",
       "      <td>8</td>\n",
       "      <td>256</td>\n",
       "      <td>2.64600</td>\n",
       "      <td>1950</td>\n",
       "      <td>Medium</td>\n",
       "      <td>1</td>\n",
       "      <td>0</td>\n",
       "    </tr>\n",
       "    <tr>\n",
       "      <th>235</th>\n",
       "      <td>Lenovo</td>\n",
       "      <td>4</td>\n",
       "      <td>2</td>\n",
       "      <td>1</td>\n",
       "      <td>5</td>\n",
       "      <td>12.0</td>\n",
       "      <td>0.896552</td>\n",
       "      <td>8</td>\n",
       "      <td>256</td>\n",
       "      <td>2.99880</td>\n",
       "      <td>2236</td>\n",
       "      <td>Medium</td>\n",
       "      <td>0</td>\n",
       "      <td>1</td>\n",
       "    </tr>\n",
       "    <tr>\n",
       "      <th>236</th>\n",
       "      <td>Lenovo</td>\n",
       "      <td>3</td>\n",
       "      <td>3</td>\n",
       "      <td>1</td>\n",
       "      <td>5</td>\n",
       "      <td>15.6</td>\n",
       "      <td>0.862069</td>\n",
       "      <td>6</td>\n",
       "      <td>256</td>\n",
       "      <td>5.29200</td>\n",
       "      <td>883</td>\n",
       "      <td>Low</td>\n",
       "      <td>1</td>\n",
       "      <td>0</td>\n",
       "    </tr>\n",
       "    <tr>\n",
       "      <th>237</th>\n",
       "      <td>Toshiba</td>\n",
       "      <td>3</td>\n",
       "      <td>2</td>\n",
       "      <td>1</td>\n",
       "      <td>5</td>\n",
       "      <td>14.0</td>\n",
       "      <td>0.793103</td>\n",
       "      <td>8</td>\n",
       "      <td>256</td>\n",
       "      <td>4.29975</td>\n",
       "      <td>1499</td>\n",
       "      <td>Low</td>\n",
       "      <td>1</td>\n",
       "      <td>0</td>\n",
       "    </tr>\n",
       "  </tbody>\n",
       "</table>\n",
       "<p>238 rows × 14 columns</p>\n",
       "</div>"
      ]
     },
     "execution_count": 4,
     "metadata": {},
     "output_type": "execute_result"
    }
   ],
   "execution_count": 4
  },
  {
   "metadata": {
    "ExecuteTime": {
     "end_time": "2025-03-22T02:36:37.126490Z",
     "start_time": "2025-03-22T02:36:37.097863Z"
    }
   },
   "cell_type": "code",
   "source": [
    "y_data = laptop_data['Price']\n",
    "x_data = laptop_data.drop('Price',axis=1)\n",
    "x_train, x_test, y_train, y_test = train_test_split(x_data, y_data, test_size=0.10, random_state=1)"
   ],
   "id": "4fd34e77949981e8",
   "outputs": [],
   "execution_count": 36
  },
  {
   "metadata": {
    "ExecuteTime": {
     "end_time": "2025-03-22T02:37:15.909295Z",
     "start_time": "2025-03-22T02:37:15.852142Z"
    }
   },
   "cell_type": "code",
   "source": [
    "lr = LinearRegression()\n",
    "lr.fit(x_train[['CPU_frequency']], y_train)\n",
    "print(lr.score(x_test[['CPU_frequency']], y_test))\n",
    "print(lr.score(x_train[['CPU_frequency']], y_train))"
   ],
   "id": "f139acf03da26c30",
   "outputs": [
    {
     "name": "stdout",
     "output_type": "stream",
     "text": [
      "-0.06599437350393789\n",
      "0.14829792099817973\n"
     ]
    }
   ],
   "execution_count": 39
  },
  {
   "metadata": {
    "ExecuteTime": {
     "end_time": "2025-03-22T02:39:35.435889Z",
     "start_time": "2025-03-22T02:39:35.356482Z"
    }
   },
   "cell_type": "code",
   "source": [
    "# Cross Validation\n",
    "Rcross = cross_val_score(lr, x_data[['CPU_frequency']], y_data, cv=4)\n",
    "print(Rcross)\n",
    "print(\"mean = \", Rcross.mean())\n",
    "print(\"std = \", Rcross.std())"
   ],
   "id": "1d062f63f38155c9",
   "outputs": [
    {
     "name": "stdout",
     "output_type": "stream",
     "text": [
      "[-0.82012763  0.10035872  0.11202939 -0.03662978]\n",
      "mean =  -0.16109232388595113\n",
      "std =  0.384957978666471\n"
     ]
    }
   ],
   "execution_count": 44
  },
  {
   "metadata": {},
   "cell_type": "markdown",
   "source": "# OverFitting\n",
   "id": "3ad330e41f85ed60"
  },
  {
   "metadata": {
    "ExecuteTime": {
     "end_time": "2025-03-22T02:46:22.852396Z",
     "start_time": "2025-03-22T02:46:22.736719Z"
    }
   },
   "cell_type": "code",
   "source": [
    "x_train, x_test, y_train, y_test = train_test_split(x_data, y_data, test_size=0.50, random_state=0)\n",
    "r2_list = []\n",
    "for deg in range(1, 6):\n",
    "    pr = PolynomialFeatures(degree=deg)\n",
    "    x_train_pr = pr.fit_transform(x_train[['CPU_frequency']])\n",
    "    x_test_pr = pr.transform(x_test[['CPU_frequency']])\n",
    "    poly_lr = LinearRegression()\n",
    "    poly_lr.fit(x_train_pr, y_train)\n",
    "    r2_list.append(poly_lr.score(x_test_pr, y_test))\n",
    "    \n",
    "r2_list"
   ],
   "id": "8c71d159b1b4822d",
   "outputs": [
    {
     "data": {
      "text/plain": [
       "[0.05322174176198102,\n",
       " -0.026920818679000424,\n",
       " 0.051563457925586365,\n",
       " -0.994813791548155,\n",
       " -1.3759360956016184]"
      ]
     },
     "execution_count": 49,
     "metadata": {},
     "output_type": "execute_result"
    }
   ],
   "execution_count": 49
  },
  {
   "metadata": {
    "ExecuteTime": {
     "end_time": "2025-03-22T02:46:26.009226Z",
     "start_time": "2025-03-22T02:46:25.327679Z"
    }
   },
   "cell_type": "code",
   "source": [
    "plt.plot([1, 2, 3, 4, 5], r2_list)\n",
    "plt.xlabel('order')\n",
    "plt.ylabel('R^2')\n",
    "plt.title('R^2 Using Test Data')\n",
    "plt.show()\n",
    "plt.close()"
   ],
   "id": "4ff4d74f563452c",
   "outputs": [
    {
     "data": {
      "text/plain": [
       "<Figure size 640x480 with 1 Axes>"
      ],
      "image/png": "[encoded data removed]"
     },
     "metadata": {},
     "output_type": "display_data"
    }
   ],
   "execution_count": 50
  },
  {
   "metadata": {},
   "cell_type": "markdown",
   "source": "#   Task 3 : Ridge Regression",
   "id": "934f893e2e604536"
  },
  {
   "metadata": {
    "ExecuteTime": {
     "end_time": "2025-03-22T02:59:26.139647Z",
     "start_time": "2025-03-22T02:59:26.078258Z"
    }
   },
   "cell_type": "code",
   "source": [
    "pr2 = PolynomialFeatures(degree=2)\n",
    "x_train_pr_2 = pr2.fit_transform(x_train[['CPU_frequency', 'RAM_GB', 'Storage_GB_SSD', 'CPU_core', 'OS', 'GPU', 'Category']])\n",
    "x_test_pr_2 = pr2.fit_transform(x_test[['CPU_frequency', 'RAM_GB', 'Storage_GB_SSD', 'CPU_core', 'OS', 'GPU', 'Category']])"
   ],
   "id": "192a361f83e73230",
   "outputs": [],
   "execution_count": 53
  },
  {
   "metadata": {
    "ExecuteTime": {
     "end_time": "2025-03-22T02:59:37.309501Z",
     "start_time": "2025-03-22T02:59:27.792231Z"
    }
   },
   "cell_type": "code",
   "source": [
    "Rsqu_test = []\n",
    "Rsqu_train = []\n",
    "Alpha = np.arange(0.001,1,0.001)\n",
    "pbar = tqdm(Alpha)\n",
    "\n",
    "for alpha in pbar:\n",
    "    RigeModel = Ridge(alpha=alpha) \n",
    "    RigeModel.fit(x_train_pr_2, y_train)\n",
    "    test_score, train_score = RigeModel.score(x_test_pr_2, y_test), RigeModel.score(x_train_pr_2, y_train)\n",
    "    pbar.set_postfix({\"Test Score\": test_score, \"Train Score\": train_score})\n",
    "    Rsqu_test.append(test_score)\n",
    "    Rsqu_train.append(train_score)"
   ],
   "id": "eec9750ce89780c6",
   "outputs": [
    {
     "name": "stderr",
     "output_type": "stream",
     "text": [
      "100%|██████████| 999/999 [00:09<00:00, 105.34it/s, Test Score=0.423, Train Score=0.669]\n"
     ]
    }
   ],
   "execution_count": 54
  },
  {
   "metadata": {
    "ExecuteTime": {
     "end_time": "2025-03-22T03:00:03.454321Z",
     "start_time": "2025-03-22T03:00:02.674890Z"
    }
   },
   "cell_type": "code",
   "source": [
    "plt.figure(figsize=(10, 6))  \n",
    "plt.plot(Alpha, Rsqu_test, label='validation data')\n",
    "plt.plot(Alpha, Rsqu_train, 'r', label='training Data')\n",
    "plt.xlabel('alpha')\n",
    "plt.ylabel('R^2')\n",
    "plt.ylim(0, 1)\n",
    "plt.legend()\n",
    "plt.show()\n",
    "plt.close()"
   ],
   "id": "fb294043400e69bd",
   "outputs": [
    {
     "data": {
      "text/plain": [
       "<Figure size 1000x600 with 1 Axes>"
      ],
      "image/png": "[encoded data removed]"
     },
     "metadata": {},
     "output_type": "display_data"
    },
    {
     "data": {
      "text/plain": [
       "<Figure size 1000x600 with 1 Axes>"
      ],
      "image/png": "[encoded data removed]"
     },
     "metadata": {},
     "output_type": "display_data"
    }
   ],
   "execution_count": 56
  },
  {
   "metadata": {},
   "cell_type": "markdown",
   "source": "#   Task 4: Grid Search",
   "id": "d449661d8c44acb8"
  },
  {
   "metadata": {
    "ExecuteTime": {
     "end_time": "2025-03-22T03:04:00.611486Z",
     "start_time": "2025-03-22T03:04:00.587427Z"
    }
   },
   "cell_type": "code",
   "source": "parameters1= [{'alpha': [0.0001,0.001,0.01, 0.1, 1, 10]}]",
   "id": "28eb668b4215a819",
   "outputs": [],
   "execution_count": 58
  },
  {
   "metadata": {
    "ExecuteTime": {
     "end_time": "2025-03-22T03:06:08.762112Z",
     "start_time": "2025-03-22T03:06:08.446804Z"
    }
   },
   "cell_type": "code",
   "source": [
    "r = Ridge()\n",
    "gridSereach = GridSearchCV(r, parameters1, cv=4)\n",
    "gridSereach.fit(x_data[['CPU_frequency', 'RAM_GB', 'Storage_GB_SSD', 'CPU_core','OS','GPU','Category']], y_data)\n",
    "gridSereach.score(x_test[['CPU_frequency', 'RAM_GB', 'Storage_GB_SSD', 'CPU_core','OS','GPU','Category']], y_test)"
   ],
   "id": "2a05eca8ded2adb2",
   "outputs": [
    {
     "data": {
      "text/plain": [
       "0.4412383966156087"
      ]
     },
     "execution_count": 62,
     "metadata": {},
     "output_type": "execute_result"
    }
   ],
   "execution_count": 62
  },
  {
   "metadata": {},
   "cell_type": "code",
   "outputs": [],
   "execution_count": null,
   "source": "",
   "id": "652b845e0cb161b6"
  }
 ],
 "metadata": {
  "kernelspec": {
   "display_name": "Python 3",
   "language": "python",
   "name": "python3"
  },
  "language_info": {
   "codemirror_mode": {
    "name": "ipython",
    "version": 2
   },
   "file_extension": ".py",
   "mimetype": "text/x-python",
   "name": "python",
   "nbconvert_exporter": "python",
   "pygments_lexer": "ipython2",
   "version": "2.7.6"
  }
 },
 "nbformat": 4,
 "nbformat_minor": 5
}
